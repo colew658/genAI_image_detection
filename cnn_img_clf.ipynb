{
 "cells": [
  {
   "cell_type": "markdown",
   "id": "152cc066",
   "metadata": {},
   "source": [
    "# Generated Vs. Real Image Classification\n",
    "\n",
    "By: Joe Sellett, Haiyan Cai, and Cole Wagner"
   ]
  },
  {
   "cell_type": "markdown",
   "id": "53b72f97",
   "metadata": {},
   "source": [
    "## Data Preparation"
   ]
  },
  {
   "cell_type": "code",
   "execution_count": 19,
   "id": "294afb70",
   "metadata": {},
   "outputs": [
    {
     "data": {
      "text/plain": [
       "[]"
      ]
     },
     "execution_count": 19,
     "metadata": {},
     "output_type": "execute_result"
    }
   ],
   "source": [
    "import matplotlib.pyplot as plt\n",
    "import tensorflow as tf\n",
    "from tensorflow.keras.layers import (\n",
    "    Conv2D,\n",
    "    Dense,\n",
    "    Dropout,\n",
    "    Flatten,\n",
    "    MaxPooling2D,\n",
    "    RandomContrast,\n",
    "    RandomRotation,\n",
    ")\n",
    "from tensorflow.keras.models import Sequential\n",
    "from tensorflow.keras.utils import image_dataset_from_directory\n",
    "\n",
    "tf.config.list_physical_devices(\"GPU\")"
   ]
  },
  {
   "cell_type": "markdown",
   "id": "7d3bbc5c",
   "metadata": {},
   "source": [
    "### Load Data"
   ]
  },
  {
   "cell_type": "code",
   "execution_count": 4,
   "id": "3f40b67f",
   "metadata": {},
   "outputs": [
    {
     "name": "stdout",
     "output_type": "stream",
     "text": [
      "Found 100000 files belonging to 2 classes.\n",
      "Using 80000 files for training.\n",
      "Using 20000 files for validation.\n"
     ]
    }
   ],
   "source": [
    "train_img, test_img = image_dataset_from_directory(\n",
    "    directory=\"images\",\n",
    "    label_mode=\"binary\",\n",
    "    image_size=(32, 32),\n",
    "    seed=7324,\n",
    "    validation_split=0.2,\n",
    "    subset=\"both\",\n",
    ")"
   ]
  },
  {
   "cell_type": "markdown",
   "id": "84a616b8",
   "metadata": {},
   "source": [
    "## Modeling"
   ]
  },
  {
   "cell_type": "code",
   "execution_count": 29,
   "id": "e84d1746",
   "metadata": {},
   "outputs": [],
   "source": [
    "cnn1 = Sequential()\n",
    "# Data augmentation\n",
    "cnn1.add(RandomContrast(factor=0.5, seed=7324))\n",
    "cnn1.add(RandomRotation(factor=0.5, seed=7324))\n",
    "\n",
    "# Convolutional layers\n",
    "cnn1.add(\n",
    "    Conv2D(\n",
    "        filters=32,\n",
    "        kernel_size=(3, 3),\n",
    "        activation=\"relu\",\n",
    "        padding=\"same\",\n",
    "    ),\n",
    ")\n",
    "cnn1.add(\n",
    "    Conv2D(\n",
    "        filters=64,\n",
    "        kernel_size=(3, 3),\n",
    "        padding=\"same\",\n",
    "        activation=\"relu\",\n",
    "    ),\n",
    ")\n",
    "cnn1.add(MaxPooling2D(pool_size=(2, 2)))\n",
    "\n",
    "# Add some dropout for regularization\n",
    "cnn1.add(Dropout(0.5))\n",
    "# Flatten the output of the convolutional layers\n",
    "cnn1.add(Flatten())\n",
    "# Fully connected layers\n",
    "cnn1.add(Dense(64, activation=\"relu\"))\n",
    "# Add some dropout for regularization\n",
    "cnn1.add(Dropout(0.5))\n",
    "# Output layer sigmoid for binary classification\n",
    "cnn1.add(Dense(1, activation=\"sigmoid\"))"
   ]
  },
  {
   "cell_type": "code",
   "execution_count": 30,
   "id": "82a15e7f",
   "metadata": {},
   "outputs": [],
   "source": [
    "cnn1.compile(\n",
    "    loss=\"binary_crossentropy\",\n",
    "    optimizer=\"rmsprop\",\n",
    "    metrics=[\"accuracy\"],\n",
    ")"
   ]
  },
  {
   "cell_type": "code",
   "execution_count": 31,
   "id": "958838f9",
   "metadata": {},
   "outputs": [
    {
     "name": "stdout",
     "output_type": "stream",
     "text": [
      "Epoch 1/5\n",
      "\u001b[1m2500/2500\u001b[0m \u001b[32m━━━━━━━━━━━━━━━━━━━━\u001b[0m\u001b[37m\u001b[0m \u001b[1m88s\u001b[0m 35ms/step - accuracy: 0.6852 - loss: 1.0724 - val_accuracy: 0.8070 - val_loss: 0.4204\n",
      "Epoch 2/5\n",
      "\u001b[1m2500/2500\u001b[0m \u001b[32m━━━━━━━━━━━━━━━━━━━━\u001b[0m\u001b[37m\u001b[0m \u001b[1m89s\u001b[0m 35ms/step - accuracy: 0.7600 - loss: 0.5343 - val_accuracy: 0.7998 - val_loss: 0.4552\n",
      "Epoch 3/5\n",
      "\u001b[1m2500/2500\u001b[0m \u001b[32m━━━━━━━━━━━━━━━━━━━━\u001b[0m\u001b[37m\u001b[0m \u001b[1m89s\u001b[0m 36ms/step - accuracy: 0.7669 - loss: 0.5301 - val_accuracy: 0.8108 - val_loss: 0.4577\n",
      "Epoch 4/5\n",
      "\u001b[1m2500/2500\u001b[0m \u001b[32m━━━━━━━━━━━━━━━━━━━━\u001b[0m\u001b[37m\u001b[0m \u001b[1m90s\u001b[0m 36ms/step - accuracy: 0.7658 - loss: 0.5259 - val_accuracy: 0.8117 - val_loss: 0.4400\n",
      "Epoch 5/5\n",
      "\u001b[1m2500/2500\u001b[0m \u001b[32m━━━━━━━━━━━━━━━━━━━━\u001b[0m\u001b[37m\u001b[0m \u001b[1m89s\u001b[0m 36ms/step - accuracy: 0.7608 - loss: 0.5292 - val_accuracy: 0.8236 - val_loss: 0.4526\n"
     ]
    }
   ],
   "source": [
    "cnn1_history = cnn1.fit(\n",
    "    train_img,\n",
    "    epochs=5,\n",
    "    verbose=1,\n",
    "    validation_data=test_img,\n",
    ")"
   ]
  },
  {
   "cell_type": "code",
   "execution_count": 33,
   "id": "cd31a4aa",
   "metadata": {},
   "outputs": [],
   "source": [
    "def plot_acc_loss(history_obj: tf.keras.callbacks.History) -> None:\n",
    "    \"\"\"Plot the accuracy and loss of the model.\n",
    "\n",
    "    Parameters\n",
    "    ----------\n",
    "    history_obj : History\n",
    "        The history object returned by the fit method of the model.\n",
    "\n",
    "    \"\"\"\n",
    "    plt.figure(figsize=(10, 4))\n",
    "    plt.subplot(1, 2, 1)\n",
    "    plt.plot(history_obj.history[\"accuracy\"], label=\"training\")\n",
    "\n",
    "    plt.ylabel(\"Accuracy %\")\n",
    "    plt.title(\"Training\")\n",
    "    plt.plot(history_obj.history[\"val_accuracy\"], label=\"validation\")\n",
    "    plt.title(\"Accuracy\")\n",
    "    plt.legend()\n",
    "\n",
    "    plt.subplot(1, 2, 2)\n",
    "    plt.plot(history_obj.history[\"loss\"], label=\"training\")\n",
    "    plt.ylabel(\"Training Loss\")\n",
    "    plt.xlabel(\"epochs\")\n",
    "\n",
    "    plt.plot(history_obj.history[\"val_loss\"], label=\"validation\")\n",
    "    plt.xlabel(\"epochs\")\n",
    "    plt.title(\"Loss\")\n",
    "    plt.legend()\n",
    "    plt.show()"
   ]
  },
  {
   "cell_type": "code",
   "execution_count": 34,
   "id": "20d0e4fd",
   "metadata": {},
   "outputs": [
    {
     "data": {
      "image/png": "[encoded data removed]",
      "text/plain": [
       "<Figure size 1000x400 with 2 Axes>"
      ]
     },
     "metadata": {},
     "output_type": "display_data"
    }
   ],
   "source": [
    "plot_acc_loss(cnn1_history)"
   ]
  }
 ],
 "metadata": {
  "kernelspec": {
   "display_name": "3.12.5",
   "language": "python",
   "name": "python3"
  },
  "language_info": {
   "codemirror_mode": {
    "name": "ipython",
    "version": 3
   },
   "file_extension": ".py",
   "mimetype": "text/x-python",
   "name": "python",
   "nbconvert_exporter": "python",
   "pygments_lexer": "ipython3",
   "version": "3.12.5"
  }
 },
 "nbformat": 4,
 "nbformat_minor": 5
}
